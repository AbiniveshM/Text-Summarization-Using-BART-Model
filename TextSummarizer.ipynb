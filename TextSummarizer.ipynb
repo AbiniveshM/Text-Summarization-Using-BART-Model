{
 "cells": [
  {
   "cell_type": "markdown",
   "metadata": {},
   "source": [
    "# ***TEXT SUMMARIZATION USING BART MODEL***"
   ]
  },
  {
   "cell_type": "markdown",
   "metadata": {},
   "source": [
    "*BART stands for Bidirectional and Auto-Regressive Transformer.*\n",
    "\n",
    "*It is a denoising autoencoder that is a pre-trained sequence-to-sequence method,* \n",
    "\n",
    "*Uses masked language modeling for Natural Language Generation and Translation.*\n",
    "\n",
    "*Similar to encoder - decoder Architecture*\n",
    "\n",
    "*Combination of BERT and GPT Models*\n",
    "\n",
    "*The BART models can be fine-tuned over small supervised datasets to create domain-specific tasks.*"
   ]
  },
  {
   "cell_type": "code",
   "execution_count": 1,
   "metadata": {},
   "outputs": [
    {
     "name": "stderr",
     "output_type": "stream",
     "text": [
      "c:\\Users\\abini\\AppData\\Local\\Programs\\Python\\Python311\\Lib\\site-packages\\tqdm\\auto.py:21: TqdmWarning: IProgress not found. Please update jupyter and ipywidgets. See https://ipywidgets.readthedocs.io/en/stable/user_install.html\n",
      "  from .autonotebook import tqdm as notebook_tqdm\n"
     ]
    }
   ],
   "source": [
    "import torch\n",
    "from transformers import BartForConditionalGeneration, BartTokenizer"
   ]
  },
  {
   "cell_type": "markdown",
   "metadata": {},
   "source": [
    "# Loading BART Model and Tokenizer"
   ]
  },
  {
   "cell_type": "code",
   "execution_count": 4,
   "metadata": {},
   "outputs": [
    {
     "name": "stderr",
     "output_type": "stream",
     "text": [
      "c:\\Users\\abini\\AppData\\Local\\Programs\\Python\\Python311\\Lib\\site-packages\\huggingface_hub\\file_download.py:159: UserWarning: `huggingface_hub` cache-system uses symlinks by default to efficiently store duplicated files but your machine does not support them in C:\\Users\\abini\\.cache\\huggingface\\hub\\models--facebook--bart-large-cnn. Caching files will still work but in a degraded version that might require more space on your disk. This warning can be disabled by setting the `HF_HUB_DISABLE_SYMLINKS_WARNING` environment variable. For more details, see https://huggingface.co/docs/huggingface_hub/how-to-cache#limitations.\n",
      "To support symlinks on Windows, you either need to activate Developer Mode or to run Python as an administrator. In order to see activate developer mode, see this article: https://docs.microsoft.com/en-us/windows/apps/get-started/enable-your-device-for-development\n",
      "  warnings.warn(message)\n"
     ]
    }
   ],
   "source": [
    "model_name = \"facebook/bart-large-cnn\"\n",
    "model = BartForConditionalGeneration.from_pretrained(model_name)\n",
    "tokenizer = BartTokenizer.from_pretrained(model_name)"
   ]
  },
  {
   "cell_type": "markdown",
   "metadata": {},
   "source": [
    "# Setting Summary Specifications"
   ]
  },
  {
   "cell_type": "code",
   "execution_count": 15,
   "metadata": {},
   "outputs": [],
   "source": [
    "def summarize_text(text, max_length=300, min_length=30, length_penalty=2.0, num_beams=4):\n",
    "    inputs = tokenizer.encode(\"summarize: \" + text, return_tensors=\"pt\", max_length=1024, truncation=True)\n",
    "    \n",
    "    summary_ids = model.generate(inputs, max_length=max_length, min_length=min_length, length_penalty=length_penalty, num_beams=num_beams, early_stopping=True)\n",
    "    \n",
    "    summary = tokenizer.decode(summary_ids[0], skip_special_tokens=True)\n",
    "    return summary"
   ]
  },
  {
   "cell_type": "markdown",
   "metadata": {},
   "source": [
    "# Sample Text"
   ]
  },
  {
   "cell_type": "code",
   "execution_count": 16,
   "metadata": {},
   "outputs": [],
   "source": [
    "text = \"\"\"\n",
    "        Rohit Sharma, born on April 30, 1987, in Nagpur, Maharashtra, is one of the most successful and prolific batsmen of the modern era. With a humble background, Sharma’s journey to stardom was marked by difficulties and hardships. His family lived in a small single-room house in Dombivli, a suburb of Mumbai, and his father lost his job when Rohit was just 10 years old.\n",
    "Sharma made his ODI debut for India against Ireland in Belfast, scoring an unbeaten 50 against South Africa in 2007. Initially, he was a finisher, but his exceptional talent and ability to score runs consistently at the highest level soon earned him a permanent spot in the Indian top order. He is the only player to score two double centuries in One Day Internationals (ODIs) and holds the record for the highest individual score in ODIs, with 264 off 173 balls against Sri Lanka on November 13, 2014.\n",
    "Sharma’s leadership skills and strategic acumen have been instrumental in India’s success in all formats. He is the current captain of the Indian cricket team in all formats and the leader of the Mumbai Indians franchise in the Indian Premier League (IPL). His ability to motivate and inspire his teammates has been a key factor in India’s rise to the top of the ICC rankings.\n",
    "Sharma’s outstanding performances have earned him numerous accolades, including the Arjuna Award and the Rajiv Gandhi Khel Ratna Award, India’s highest sporting honor. His wife, Ritika Sajdeh, and daughter, Samaira Sharma, are an integral part of his life, and he has been vocal about the importance of family and work-life balance.\n",
    "Rohit Sharma’s journey from a humble background to becoming one of the most successful batsmen in the world is a testament to his hard work, dedication, and exceptional talent. As a leader, he has inspired his teammates and fans alike, and his contributions to Indian cricket will be remembered for generations to come.\n",
    "        \"\"\""
   ]
  },
  {
   "cell_type": "markdown",
   "metadata": {},
   "source": [
    "# Extractive summarization"
   ]
  },
  {
   "cell_type": "code",
   "execution_count": 17,
   "metadata": {},
   "outputs": [
    {
     "name": "stdout",
     "output_type": "stream",
     "text": [
      "Summary: Rohit Sharma is one of the most successful and prolific batsmen of the modern era. He is the only player to score two double centuries in One Day Internationals (ODIs) Sharma holds the record for the highest individual score in ODIs, with 264 off 173 balls against Sri Lanka on November 13, 2014.\n"
     ]
    }
   ],
   "source": [
    "summary = summarize_text(text)\n",
    "print(\"Summary:\", summary)"
   ]
  },
  {
   "cell_type": "markdown",
   "metadata": {},
   "source": [
    "Summary: Rohit Sharma is one of the most successful and prolific batsmen of the modern era. He is the only player to score two double centuries in One Day Internationals (ODIs) Sharma holds the record for the highest individual score in ODIs, with 264 off 173 balls against Sri Lanka on November 13, 2014.\n"
   ]
  }
 ],
 "metadata": {
  "kernelspec": {
   "display_name": "Python 3",
   "language": "python",
   "name": "python3"
  },
  "language_info": {
   "codemirror_mode": {
    "name": "ipython",
    "version": 3
   },
   "file_extension": ".py",
   "mimetype": "text/x-python",
   "name": "python",
   "nbconvert_exporter": "python",
   "pygments_lexer": "ipython3",
   "version": "3.11.2"
  }
 },
 "nbformat": 4,
 "nbformat_minor": 2
}
